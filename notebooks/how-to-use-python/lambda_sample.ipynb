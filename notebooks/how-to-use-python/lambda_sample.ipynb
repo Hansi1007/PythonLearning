{
 "cells": [
  {
   "cell_type": "code",
   "execution_count": 1,
   "metadata": {},
   "outputs": [
    {
     "name": "stdout",
     "output_type": "stream",
     "text": [
      "y = 5\n",
      "closure(5) = 1.25\n",
      "y = 6\n",
      "closure(6) = 1.5\n",
      "y = 7\n",
      "closure(7) = 1.75\n"
     ]
    }
   ],
   "source": [
    "def outer_func(x):\n",
    "    y = 2 *x\n",
    "    def inner_func(y):\n",
    "        print(f\"y = {y}\")\n",
    "        return y * 1/4 \n",
    "    return inner_func\n",
    "\n",
    "for i in range(3):\n",
    "    closure = outer_func(i)\n",
    "    print(f\"closure({i+5}) = {closure(i+5)}\")"
   ]
  },
  {
   "cell_type": "code",
   "execution_count": 2,
   "metadata": {},
   "outputs": [
    {
     "name": "stdout",
     "output_type": "stream",
     "text": [
      "x = 0, y = 4, z = 5\n",
      "closure(5) = 9\n",
      "x = 1, y = 4, z = 6\n",
      "closure(6) = 11\n",
      "x = 2, y = 4, z = 7\n",
      "closure(7) = 13\n"
     ]
    }
   ],
   "source": [
    "# https://realpython.com/python-lambda/\n",
    "def outer_func(x):\n",
    "    y = 4\n",
    "    def inner_func(z):\n",
    "        print(f\"x = {x}, y = {y}, z = {z}\")\n",
    "        return x + y + z\n",
    "    return inner_func\n",
    "\n",
    "for i in range(3):\n",
    "    closure = outer_func(i)\n",
    "    print(f\"closure({i+5}) = {closure(i+5)}\")"
   ]
  },
  {
   "cell_type": "code",
   "execution_count": 5,
   "metadata": {},
   "outputs": [
    {
     "name": "stdout",
     "output_type": "stream",
     "text": [
      "closure(5) = 9\n",
      "closure(6) = 11\n",
      "closure(7) = 13\n"
     ]
    }
   ],
   "source": [
    "def outer_func(x):\n",
    "    y = 4\n",
    "    return lambda z: x + y + z\n",
    "\n",
    "for i in range(3):\n",
    "    closure = outer_func(i)\n",
    "    print(f\"closure({i+5}) = {closure(i+5)}\")"
   ]
  },
  {
   "cell_type": "code",
   "execution_count": null,
   "metadata": {},
   "outputs": [],
   "source": []
  }
 ],
 "metadata": {
  "kernelspec": {
   "display_name": "Python 3.10.4 64-bit",
   "language": "python",
   "name": "python3"
  },
  "language_info": {
   "codemirror_mode": {
    "name": "ipython",
    "version": 3
   },
   "file_extension": ".py",
   "mimetype": "text/x-python",
   "name": "python",
   "nbconvert_exporter": "python",
   "pygments_lexer": "ipython3",
   "version": "3.10.4"
  },
  "orig_nbformat": 4,
  "vscode": {
   "interpreter": {
    "hash": "3ad933181bd8a04b432d3370b9dc3b0662ad032c4dfaa4e4f1596c548f763858"
   }
  }
 },
 "nbformat": 4,
 "nbformat_minor": 2
}
